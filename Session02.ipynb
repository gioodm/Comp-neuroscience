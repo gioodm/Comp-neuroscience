{
 "cells": [
  {
   "cell_type": "markdown",
   "id": "2c84f177",
   "metadata": {
    "id": "2c84f177",
    "pycharm": {
     "name": "#%% md\n"
    }
   },
   "source": [
    "# Session 2: The Ball & Stick Neuron"
   ]
  },
  {
   "cell_type": "code",
   "execution_count": 1,
   "id": "f411dd9f",
   "metadata": {
    "colab": {
     "base_uri": "https://localhost:8080/",
     "height": 341
    },
    "executionInfo": {
     "elapsed": 10,
     "status": "error",
     "timestamp": 1661945928822,
     "user": {
      "displayName": "Kris Evers",
      "userId": "03310336124139619105"
     },
     "user_tz": -120
    },
    "id": "f411dd9f",
    "outputId": "53d44895-ce4c-49e8-8919-36f53c4e38a1",
    "pycharm": {
     "name": "#%%\n"
    }
   },
   "outputs": [
    {
     "name": "stderr",
     "output_type": "stream",
     "text": [
      "Warning: no DISPLAY environment variable.\n",
      "--No graphics will be displayed.\n"
     ]
    }
   ],
   "source": [
    "# Import modules\n",
    "import numpy as np\n",
    "import matplotlib.pyplot as plt\n",
    "from neuron import h, gui"
   ]
  },
  {
   "cell_type": "markdown",
   "id": "X9uhmtz7yXGK",
   "metadata": {
    "id": "X9uhmtz7yXGK"
   },
   "source": [
    "## About this tutorial\n",
    "\n",
    "In this tutorial you are going to use the [NEURON SIMULATOR](https://neuron.yale.edu). This is a tool to simulate biological neurons and networks of neurons with detailed morphologies. In this exercise we will create a simple cell with just a single dendrite and soma and investigate some effects of tweaking model parameters. This will set you up to set up more complex experiments with more interesting morphologies. This simple cell we call the *Ball & Stick Cell* representing the soma and dendrite, respectively.\n",
    "\n",
    "Let's first import the right modules. For the neuron simulator to work in python we need to import its **h** module which contains all functionality for constructing and simulating the neurons. The **gui** module is also required, but for this exercise there is no need to understand its functionality. "
   ]
  },
  {
   "cell_type": "markdown",
   "id": "5471e21e",
   "metadata": {
    "id": "5471e21e",
    "pycharm": {
     "name": "#%% md\n"
    }
   },
   "source": [
    "## Create sections\n",
    "A neuron consists of multiple compartement with specific biophysical properties. in NEURON compartments of a cell are modelled as $Sections$. Each $Section$ has a number of $Segments$ ($nseg$). To create a section we simple call $h.Section$ and give it a name (the argument of the function)."
   ]
  },
  {
   "cell_type": "code",
   "execution_count": 2,
   "id": "10fbc09f",
   "metadata": {
    "id": "10fbc09f",
    "pycharm": {
     "name": "#%%\n"
    }
   },
   "outputs": [],
   "source": [
    "soma = h.Section(name='soma') # create the cell soma\n",
    "# also create a dendrite\n",
    "dend = h.Section(name='dend') # create the cell dendrite"
   ]
  },
  {
   "cell_type": "code",
   "execution_count": 3,
   "id": "6d650ed1",
   "metadata": {
    "id": "6d650ed1"
   },
   "outputs": [
    {
     "name": "stdout",
     "output_type": "stream",
     "text": [
      "soma { nseg=1  L=100  Ra=35.4\n",
      "\t/*location 0 attached to cell 0*/\n",
      "\t/* First segment only */\n",
      "\tinsert morphology { diam=500}\n",
      "\tinsert capacitance { cm=1}\n",
      "}\n",
      "\n",
      "|-|       soma(0-1)\n",
      "|-|       dend(0-1)\n",
      "\n"
     ]
    },
    {
     "data": {
      "text/plain": [
       "1.0"
      ]
     },
     "execution_count": 3,
     "metadata": {},
     "output_type": "execute_result"
    }
   ],
   "source": [
    "# h.psection prints information about the section \n",
    "h.psection(sec=soma) # print section\n",
    "# h.topology prints the topology of the whole of sections that you created\n",
    "h.topology()         # print topology"
   ]
  },
  {
   "cell_type": "markdown",
   "id": "6c1f7603",
   "metadata": {
    "id": "6c1f7603",
    "pycharm": {
     "name": "#%% md\n"
    }
   },
   "source": [
    "The soma and the dendrite both have 1 segment. The topology should show that they are unconnected and each section has 2 ends: 0 and 1. \n",
    "\n",
    "Now lets connect them!"
   ]
  },
  {
   "cell_type": "markdown",
   "id": "5d523210",
   "metadata": {
    "id": "5d523210",
    "pycharm": {
     "name": "#%% md\n"
    }
   },
   "source": [
    "## Topology\n",
    "We connect the dendrite to the soma. The location of the connection on the $Section$ (so the $Segment$ of the $Section$ where the connection is made) runs from $0$ to $1$. In this case both the dendrite and the soma have 1 $Segment$ so we simply connect the dendrite to the \"1\" end of the soma. Connect and investigate the topology of the system."
   ]
  },
  {
   "cell_type": "code",
   "execution_count": 4,
   "id": "9dfd510c",
   "metadata": {
    "id": "9dfd510c",
    "pycharm": {
     "name": "#%%\n"
    }
   },
   "outputs": [
    {
     "data": {
      "text/plain": [
       "dend"
      ]
     },
     "execution_count": 4,
     "metadata": {},
     "output_type": "execute_result"
    }
   ],
   "source": [
    "dend.connect(soma(1)) # connect dendrite at the '1' end of the soma"
   ]
  },
  {
   "cell_type": "markdown",
   "id": "04528f48",
   "metadata": {
    "id": "04528f48",
    "pycharm": {
     "name": "#%% md\n"
    }
   },
   "source": [
    "Now we have connected the \"0\" end of the dendrite to the \"1\" end of the soma.\n",
    "\n",
    "Next we can define the spatial properties of the $Sections$ using the cells geometry."
   ]
  },
  {
   "cell_type": "markdown",
   "id": "4c270e45",
   "metadata": {
    "id": "4c270e45",
    "pycharm": {
     "name": "#%% md\n"
    }
   },
   "source": [
    "## Geometry\n",
    "The sections in NEURON have a cylinder shape. The surface area of a cylinder is $2\\pi rh$. To get a ball shaped soma we need to set the length equal to it's diameter. We want a soma with a surface area of 500 microns squared.\n",
    "\n",
    "### Exercise 1: Calculate the diameter and length of the soma to get a surface area of 500 microns squared\n",
    "The diameter and the length should be the same for the soma to get a approximately ball shaped section."
   ]
  },
  {
   "cell_type": "code",
   "execution_count": 5,
   "id": "fd657966",
   "metadata": {
    "id": "fd657966",
    "pycharm": {
     "name": "#%%\n"
    }
   },
   "outputs": [],
   "source": [
    "soma.L = soma.diam = 12.6157"
   ]
  },
  {
   "cell_type": "markdown",
   "id": "6337dc47",
   "metadata": {
    "id": "6337dc47",
    "pycharm": {
     "name": "#%% md\n"
    }
   },
   "source": [
    "The dendrite has an elongated shape, the length is much larger than the diameter."
   ]
  },
  {
   "cell_type": "code",
   "execution_count": 6,
   "id": "97a65748",
   "metadata": {
    "id": "97a65748",
    "pycharm": {
     "name": "#%%\n"
    }
   },
   "outputs": [],
   "source": [
    "dend.L = 200  # microns\n",
    "dend.diam = 1 # microns"
   ]
  },
  {
   "cell_type": "markdown",
   "id": "f1096c7e",
   "metadata": {
    "id": "f1096c7e",
    "pycharm": {
     "name": "#%% md\n"
    }
   },
   "source": [
    "The $Sections$ we made are not actually soma and dendrites, we just named and shaped them that way. To really simulate the dynamics of a soma and a dendrite we need to define the biophysical mechanisms of the $Sections$."
   ]
  },
  {
   "cell_type": "markdown",
   "id": "583aaf76",
   "metadata": {
    "id": "583aaf76",
    "pycharm": {
     "name": "#%% md\n"
    }
   },
   "source": [
    "## Biophysics\n",
    "In NEURON we can insert membrane properties, like leak currents and conductances. Here, we will set up the soma membrane with Hodgin-Huxley dynamics. The dendrite will have a simple passive membrane with a single conductance. We first set the resistance and membrane capacitance of both the soma and the dendrite using $h.allsec()$."
   ]
  },
  {
   "cell_type": "code",
   "execution_count": 7,
   "id": "ceb690c3",
   "metadata": {
    "id": "ceb690c3",
    "pycharm": {
     "name": "#%%\n"
    }
   },
   "outputs": [],
   "source": [
    "for sec in h.allsec():\n",
    "    sec.Ra = 100   # Axial resistance in Ohm*cm\n",
    "    sec.cm = 1     # Membrane capacitance in mF/cm^2"
   ]
  },
  {
   "cell_type": "markdown",
   "id": "0f70a162",
   "metadata": {
    "id": "0f70a162",
    "pycharm": {
     "name": "#%% md\n"
    }
   },
   "source": [
    "Then we insert an active Hodgin-Huxley current for all the $Segments$ in the soma (if you didn't change the number of $Segments$ it should be 1) using $.insert()$"
   ]
  },
  {
   "cell_type": "code",
   "execution_count": 8,
   "id": "2767854d",
   "metadata": {
    "id": "2767854d",
    "pycharm": {
     "name": "#%%\n"
    }
   },
   "outputs": [],
   "source": [
    "soma.insert('hh') # insert active Hodgin-Huxley current\n",
    "\n",
    "# set the parameters of the active membrane\n",
    "for seg in soma:\n",
    "    seg.hh.gnabar = 0.12   # Sodium conductance in S/cm^2\n",
    "    seg.hh.gkbar  = 0.036  # Potassium conductance in S/cm^2\n",
    "    seg.hh.gl     = 0.0003 # Leak conductance in S/cm^2\n",
    "    seg.hh.el     = -54.3  # Reversal potential in mV"
   ]
  },
  {
   "cell_type": "markdown",
   "id": "9d74d029",
   "metadata": {
    "id": "9d74d029",
    "pycharm": {
     "name": "#%% md\n"
    }
   },
   "source": [
    "Finally we need to set up the biophysics of the dendrite with a passive current."
   ]
  },
  {
   "cell_type": "code",
   "execution_count": 9,
   "id": "f5ad9c24",
   "metadata": {
    "id": "f5ad9c24",
    "pycharm": {
     "name": "#%%\n"
    }
   },
   "outputs": [],
   "source": [
    "# insert a passive membrane ('pas')\n",
    "dend.insert('pas')\n",
    "\n",
    "# set the passive conductance (S/cm^2) 'g = 0.001' and the leak reversal potential (mV) 'e = -65'.\n",
    "for seg in dend:\n",
    "    seg.pas.g = 0.001\n",
    "    seg.pas.e = -65"
   ]
  },
  {
   "cell_type": "markdown",
   "id": "191e208f",
   "metadata": {
    "id": "191e208f",
    "pycharm": {
     "name": "#%% md\n"
    }
   },
   "source": [
    "Now the topology and biophysics of the model neuron is ready we can simulate and visualize the dynamics of the model."
   ]
  },
  {
   "cell_type": "markdown",
   "id": "f52ddb3d",
   "metadata": {
    "id": "f52ddb3d",
    "pycharm": {
     "name": "#%% md\n"
    }
   },
   "source": [
    "## Simulation\n",
    "To get any interesting dynamics we will inject a stimulus using the $h.IClamp()$ function. We inject it at the '1' end of the dendrite. Furthermore, we start it at 5 ms into the simulation, give it a duration of 1 ms and an amplitude of 0.1 nA."
   ]
  },
  {
   "cell_type": "code",
   "execution_count": 10,
   "id": "df70bfec",
   "metadata": {
    "id": "df70bfec",
    "pycharm": {
     "name": "#%%\n"
    }
   },
   "outputs": [],
   "source": [
    "stim = h.IClamp(dend(1))\n",
    "stim.delay = 5\n",
    "stim.dur   = 1\n",
    "stim.amp   = 0.1"
   ]
  },
  {
   "cell_type": "markdown",
   "id": "0ae4babb",
   "metadata": {
    "id": "0ae4babb",
    "pycharm": {
     "name": "#%% md\n"
    }
   },
   "source": [
    "To simulate we need to create recording vectors for the membrane potential and the time. These are used to store the recorded variables."
   ]
  },
  {
   "cell_type": "code",
   "execution_count": 11,
   "id": "2ef7b276",
   "metadata": {
    "id": "2ef7b276",
    "outputId": "0aa2389b-d0c2-4792-a470-7ad31d32b2c7",
    "pycharm": {
     "name": "#%%\n"
    }
   },
   "outputs": [
    {
     "data": {
      "text/plain": [
       "Vector[5]"
      ]
     },
     "execution_count": 11,
     "metadata": {},
     "output_type": "execute_result"
    }
   ],
   "source": [
    "s_vec = h.Vector()   # Membrane potential vector for soma\n",
    "d_vec = h.Vector()   # Membrane potential vector for dendrite\n",
    "t_vec = h.Vector()   # Time vector\n",
    "s_vec.record(soma(0.5)._ref_v) # record from the middle of the soma\n",
    "d_vec.record(dend(0.5)._ref_v) # record from the middle of the dendrite\n",
    "t_vec.record(h._ref_t)         # record time"
   ]
  },
  {
   "cell_type": "markdown",
   "id": "85bbbf48",
   "metadata": {
    "id": "85bbbf48",
    "pycharm": {
     "name": "#%% md\n"
    }
   },
   "source": [
    "now we are ready to simulate!"
   ]
  },
  {
   "cell_type": "code",
   "execution_count": 12,
   "id": "ccbaba2c",
   "metadata": {
    "id": "ccbaba2c",
    "outputId": "c085b27e-9804-4bba-ce5c-7bba7414ed9d",
    "pycharm": {
     "name": "#%%\n"
    }
   },
   "outputs": [
    {
     "data": {
      "text/plain": [
       "0.0"
      ]
     },
     "execution_count": 12,
     "metadata": {},
     "output_type": "execute_result"
    }
   ],
   "source": [
    "h.tstop = 25.0  # simulation time\n",
    "h.run()"
   ]
  },
  {
   "cell_type": "markdown",
   "id": "29fb5d3a",
   "metadata": {
    "id": "29fb5d3a",
    "pycharm": {
     "name": "#%% md\n"
    }
   },
   "source": [
    "...and visualize!"
   ]
  },
  {
   "cell_type": "code",
   "execution_count": 13,
   "id": "215516be",
   "metadata": {
    "id": "215516be",
    "pycharm": {
     "name": "#%%\n"
    }
   },
   "outputs": [
    {
     "data": {
      "image/png": "[encoded data removed]",
      "text/plain": [
       "<Figure size 576x288 with 1 Axes>"
      ]
     },
     "metadata": {
      "needs_background": "light"
     },
     "output_type": "display_data"
    }
   ],
   "source": [
    "plt.figure(figsize=(8,4))\n",
    "plt.plot(t_vec, s_vec, label='soma')\n",
    "plt.plot(t_vec, d_vec, label='dendrite')\n",
    "plt.xlabel('Time (ms)')\n",
    "plt.ylabel('Membrane potential (mV)')\n",
    "plt.legend()\n",
    "plt.show()"
   ]
  },
  {
   "cell_type": "markdown",
   "id": "5648ccf4",
   "metadata": {
    "id": "5648ccf4",
    "pycharm": {
     "name": "#%% md\n"
    }
   },
   "source": [
    "A spike! It seems the dendritic input caused the membrane potential in the soma to jump. Now we went through the basics of NEURON we can experiment with more interesting cases."
   ]
  },
  {
   "cell_type": "markdown",
   "id": "d8f473a7",
   "metadata": {
    "id": "d8f473a7",
    "pycharm": {
     "name": "#%% md\n"
    }
   },
   "source": [
    "### Exercise 2: Dendritic resolution (50 points)\n",
    "In reality the biological dendrite does not behave as one compartment. Synaptic input can arrive at different locations along the dendrite. Further, the length and shape of the dendrite has an effect on the current that will eventually reach the soma. To incorporate these effects in our Ball & Stick model we need to increase the number of 𝑆𝑒𝑔𝑚𝑒𝑛𝑡𝑠 in our dendrite 𝑆𝑒𝑐𝑡𝑖𝑜𝑛. Try to set the number of 𝑆𝑒𝑔𝑚𝑒𝑛𝑡𝑠 of the dendrite (𝑛𝑠𝑒𝑔) to 101 (odd value because we evaluate the membrane potential at the middle of the dendrite). What happens to the membrane potential of the dendrite and the soma when applying stimulation at different 𝑆𝑒𝑔𝑚𝑒𝑛𝑡𝑠 along the dendrite? Try experimenting with different dendrite lengths, number of 𝑆𝑒𝑔𝑚𝑒𝑛𝑡𝑠. Can you think of a computation that could be performed by a single dendrite with the potential to be stimulated (e.g. by other neuron's synapses) at different sites along it's shaft?"
   ]
  },
  {
   "cell_type": "code",
   "execution_count": 14,
   "id": "aeaf57a1",
   "metadata": {
    "id": "aeaf57a1"
   },
   "outputs": [
    {
     "name": "stdout",
     "output_type": "stream",
     "text": [
      "\n",
      "|-|       soma(0-1)\n",
      "   `----------------------------------------------------------------------------------------------------|       dend(0-1)\n",
      "\n"
     ]
    },
    {
     "data": {
      "image/png": "[encoded data removed]",
      "text/plain": [
       "<Figure size 576x288 with 1 Axes>"
      ]
     },
     "metadata": {
      "needs_background": "light"
     },
     "output_type": "display_data"
    }
   ],
   "source": [
    "# set the number of Segments (nseg) of the dendrite to 101.\n",
    "dend.nseg = 101\n",
    "for seg in dend:\n",
    "    seg.pas.g = 0.001\n",
    "    seg.pas.e = -65\n",
    "    \n",
    "h.topology()\n",
    "\n",
    "# apply stimulation at a location along the dendritic shaft\n",
    "stim = h.IClamp(dend(1))\n",
    "stim.delay = 5\n",
    "stim.dur   = 1\n",
    "stim.amp   = 0.1\n",
    "\n",
    "# plot the membrane potential in the middle of the dendrite and the soma\n",
    "t_vec = h.Vector()       # Time vector\n",
    "t_vec.record(h._ref_t)   # record time\n",
    "\n",
    "# record from the middle of the soma\n",
    "s_vec = h.Vector()             # Membrane potential\n",
    "s_vec.record(soma(0.5)._ref_v) # record from the middle of the soma\n",
    "\n",
    "# record from the middle of the dendrite\n",
    "d_vec = h.Vector()             # Membrane potential\n",
    "d_vec.record(dend(0.5)._ref_v) # record from the middle of the soma\n",
    "\n",
    "h.tstop = 25.0  # simulation time\n",
    "h.run()\n",
    "\n",
    "# plot the trajectories\n",
    "plt.figure(figsize=(8,4))\n",
    "plt.plot(t_vec, s_vec, label='soma')\n",
    "plt.plot(t_vec, d_vec, label='dendrite')\n",
    "plt.xlabel('Time (ms)')\n",
    "plt.ylabel('Membrane potential (mV)')\n",
    "plt.show()"
   ]
  },
  {
   "cell_type": "markdown",
   "id": "b76b63e5-52a1-4594-83d0-2e59e213e7ca",
   "metadata": {},
   "source": [
    "*The advantage of having detailed dendrites is that you can do non-linear integrations of inputs. For example you can integrate temporal sequences of input. Imagine the difference between a sequence of inputs arriving on the dendrite in the direction of the soma or in the opposite direction. The dendrite will likely be able to make a distinction between the two input sequences.*"
   ]
  },
  {
   "cell_type": "markdown",
   "id": "a9a5c6f0-8288-44e8-bdc9-22441d93c370",
   "metadata": {},
   "source": [
    "### Exercise 3: Cell-class & Ring-network (50 Points)\n",
    "To make your code more efficient it is often convenient to build classes for objects. An example would be a cell class containing all properties of the cell (i.e. topology, geometry, biophysics). This cell class could be called each time you want to create a cell without the need to set all parameters. Below a template of such a cell class is provided but not all functionality is complete. The goal of this exercise is to complete this class and use it to make a ring-network of Ball-and-Stick neurons. For this model we assume nothing interesting happens in the axon so we don't have to model them explicitely and we can 'connect' the spikes detected at the *soma* of one cell directly to the *dendrite* of the next cell on the ring with some *weight*. \n",
    "\n",
    "In the ring-network connect each cell to the next cell on the ring from the middle of the soma of the previous cell to the middle of the dendrite of the next cell. Event-based communication between objects in NEURON takes place via network connection objects called *NetCon*s. Each *NetCon* has a source and target, where the source is the membrane potential of the presynaptic soma and the target the synapse on the postsynaptic dendrite. When the membrane voltage at the *soma* spikes, the *NetCon* sends a message to a target. A synapse is created using the function *h.ExpSyn()* with as only argument the target location (i.e. the middle of the postsynaptic dendrite).\n",
    "Give each connection on the ring a weight of $0.05 mV$ and a delay of $5 ms$.\n",
    "\n",
    "We will also use *NetCon* to connect a stimulus to the first cell in the ring-network. The stimulation object is created using *h.NetStim*. This device ejects a number of spikes. Set the *number* argument to 1 and the *delay* to 1. Connect it to the first cell using *NetCon*.\n",
    "\n",
    "Now simulate the network for $100 ms$ and visualize the membrane voltage of all cells in the network! Now you know how to organize your code in classes and create networks of cells in NEURON!"
   ]
  },
  {
   "cell_type": "code",
   "execution_count": 15,
   "id": "e1a12d46-3217-4898-8449-bbb5444dbe4f",
   "metadata": {},
   "outputs": [],
   "source": [
    "class Cell:\n",
    "    def __init__(self, idx):\n",
    "        self.idx = idx  # index of the cell on the ring\n",
    "        self.create_sections()\n",
    "        self.build_topology()\n",
    "        self.define_geometry()\n",
    "        self.define_biophysics()\n",
    "    \n",
    "    def create_sections(self):\n",
    "        \"\"\"Create the sections of the cell.\"\"\"\n",
    "        self.soma = h.Section(name='soma', cell=self)\n",
    "        self.dend = h.Section(name='dend', cell=self)\n",
    "        \n",
    "    def build_topology(self):\n",
    "        \"\"\"Connect the sections of the cell to build a tree.\"\"\"\n",
    "        self.dend.connect(self.soma(1)) \n",
    "\n",
    "    def define_geometry(self):\n",
    "        \"\"\"Set the geometry of the cell.\"\"\"\n",
    "        self.soma.L = self.soma.diam = 12.6157 # microns\n",
    "        self.dend.L = 200  # microns\n",
    "        self.dend.diam = 1 # microns\n",
    "        self.dend.nseg = 101\n",
    "        \n",
    "    def define_biophysics(self):\n",
    "        \"\"\"Set the biophysics of the sections.\"\"\"   \n",
    "        for sec in h.allsec():\n",
    "            sec.Ra = 100   # Axial resistance in Ohm*cm\n",
    "            sec.cm = 1     # Membrane capacitance in mF/cm^2\n",
    "        \n",
    "        self.soma.insert('hh') # insert active Hodgin-Huxley current\n",
    "        # set the parameters of the active membrane\n",
    "        for seg in self.soma:\n",
    "            seg.hh.gnabar = 0.12   # Sodium conductance in S/cm^2\n",
    "            seg.hh.gkbar  = 0.036  # Potassium conductance in S/cm^2\n",
    "            seg.hh.gl     = 0.0003 # Leak conductance in S/cm^2\n",
    "            seg.hh.el     = -54.3  # Reversal potential in mV\n",
    "            \n",
    "        # insert a passive membrane ('pas')\n",
    "        self.dend.insert('pas')\n",
    "        # set the parameters of the passive membrane\n",
    "        for seg in self.dend:\n",
    "            seg.pas.g = 0.001\n",
    "            seg.pas.e = -65\n",
    "            "
   ]
  },
  {
   "cell_type": "code",
   "execution_count": 16,
   "id": "091836a8-1f04-4b9c-8e88-1a0eadab7c4a",
   "metadata": {},
   "outputs": [
    {
     "data": {
      "image/png": "[encoded data removed]",
      "text/plain": [
       "<Figure size 576x288 with 1 Axes>"
      ]
     },
     "metadata": {
      "needs_background": "light"
     },
     "output_type": "display_data"
    }
   ],
   "source": [
    "# create the cells\n",
    "cells = []        # list of cells\n",
    "N = 10            # number of cells\n",
    "for i in range(N):\n",
    "    cell = Cell(i)\n",
    "    cells.append(cell)\n",
    "    \n",
    "# connect the cells\n",
    "syns = []         # list of synapses\n",
    "netcons = []      # list of NetCons\n",
    "for i in range(N):\n",
    "    src = cells[i]\n",
    "    tgt = cells[(i + 1) % N]\n",
    "    \n",
    "    syn = h.ExpSyn(tgt.dend(0.5))\n",
    "    nc = h.NetCon(src.soma(0.5)._ref_v, syn, sec=src.soma)\n",
    "    nc.weight[0] = 0.05\n",
    "    nc.delay = 5\n",
    "    netcons.append(nc)\n",
    "    syns.append(syn)\n",
    "\n",
    "# stimulate the first cell\n",
    "stim = h.NetStim()                   # stimulation device generating spike input\n",
    "syn_ = h.ExpSyn(cells[0].dend(0.5))  # synapse \n",
    "stim.number = 1\n",
    "stim.start = 1\n",
    "ncstim = h.NetCon(stim, syn_)\n",
    "ncstim.delay = 1\n",
    "ncstim.weight[0] = 0.04 # NetCon weight is a vector.\n",
    "\n",
    "# plot the membrane potential in the middle of the dendrite and the soma\n",
    "t_vec = h.Vector()       # Time vector\n",
    "t_vec.record(h._ref_t)   # record time\n",
    "\n",
    "s_vecs = []\n",
    "for i in range(N):\n",
    "    # record from the middle of the soma\n",
    "    s_vec = h.Vector()                      # Membrane potential\n",
    "    s_vec.record(cells[i].soma(0.5)._ref_v) # record from the middle of the soma\n",
    "    s_vecs.append(s_vec)\n",
    "\n",
    "h.tstop = 100.0  # simulation time\n",
    "h.run()\n",
    "\n",
    "# plot the trajectories\n",
    "plt.figure(figsize=(8,4))\n",
    "colors = plt.cm.Spectral(np.linspace(0, 1, N))\n",
    "for i in range(N):\n",
    "    plt.plot(t_vec, s_vecs[i], color=colors[i])\n",
    "plt.xlabel('Time (ms)')\n",
    "plt.ylabel('Membrane potential (mV)')\n",
    "plt.show()"
   ]
  },
  {
   "cell_type": "code",
   "execution_count": null,
   "id": "d0142ff9-463c-404e-b95d-d0cb18fbcf60",
   "metadata": {},
   "outputs": [],
   "source": []
  },
  {
   "cell_type": "code",
   "execution_count": null,
   "id": "b5c46372-cc44-477c-918d-27c8391dd4e4",
   "metadata": {},
   "outputs": [],
   "source": []
  },
  {
   "cell_type": "code",
   "execution_count": null,
   "id": "dac04644-ff41-407e-839f-38068467c103",
   "metadata": {},
   "outputs": [],
   "source": []
  }
 ],
 "metadata": {
  "colab": {
   "collapsed_sections": [],
   "name": "Session02.ipynb",
   "provenance": []
  },
  "kernelspec": {
   "display_name": "Python [conda env:neuron_env]",
   "language": "python",
   "name": "conda-env-neuron_env-py"
  },
  "language_info": {
   "codemirror_mode": {
    "name": "ipython",
    "version": 3
   },
   "file_extension": ".py",
   "mimetype": "text/x-python",
   "name": "python",
   "nbconvert_exporter": "python",
   "pygments_lexer": "ipython3",
   "version": "3.10.4"
  }
 },
 "nbformat": 4,
 "nbformat_minor": 5
}
